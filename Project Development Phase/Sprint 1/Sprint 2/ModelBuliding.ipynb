{
  "nbformat": 4,
  "nbformat_minor": 0,
  "metadata": {
    "colab": {
      "provenance": []
    },
    "kernelspec": {
      "name": "python3",
      "display_name": "Python 3"
    },
    "language_info": {
      "name": "python"
    }
  },
  "cells": [
    {
      "cell_type": "code",
      "execution_count": null,
      "metadata": {
        "id": "-4U2x7XApAPv"
      },
      "outputs": [],
      "source": [
        "#import keras libraries\n",
        "from keras.models import Sequential\n",
        "from keras.layers import Dense\n",
        "from keras.layers import Convolution2D\n",
        "from keras.layers import MaxPooling2D\n",
        "from keras.layers import Flatten"
      ]
    },
    {
      "cell_type": "code",
      "source": [
        "#image preprocessing(or) image augmentation\n",
        "from tensorflow.keras.preprocessing.image import ImageDataGenerator"
      ],
      "metadata": {
        "id": "GUqs8zuap0Ro"
      },
      "execution_count": null,
      "outputs": []
    },
    {
      "cell_type": "code",
      "source": [
        "train_datagen = ImageDataGenerator(rescale=1./255,shear_range=0.2,zoom_range=0.2,horizontal_flip=True,vertical_flip=True)\n",
        "#rescale => rescaling pixel value from 0 to 255 to 0 to 1\n",
        "#shear_range=> counter clock wise rotation(anti clock)"
      ],
      "metadata": {
        "id": "t44vJdxpqO67"
      },
      "execution_count": null,
      "outputs": []
    },
    {
      "cell_type": "code",
      "source": [
        "test_datagen = ImageDataGenerator(rescale=1./255)"
      ],
      "metadata": {
        "id": "bPtjB_31qZLl"
      },
      "execution_count": null,
      "outputs": []
    },
    {
      "cell_type": "code",
      "source": [
        "x_train = train_datagen.flow_from_directory(\"/content/drive/MyDrive/ibm project/TRAIN_SET\",target_size=(64,64),batch_size=32,class_mode=\"binary\")"
      ],
      "metadata": {
        "colab": {
          "base_uri": "https://localhost:8080/"
        },
        "id": "ltTuui5Kqdtp",
        "outputId": "459d0808-26f3-4961-a944-39fd2995f446"
      },
      "execution_count": null,
      "outputs": [
        {
          "output_type": "stream",
          "name": "stdout",
          "text": [
            "Found 4118 images belonging to 5 classes.\n"
          ]
        }
      ]
    },
    {
      "cell_type": "code",
      "source": [
        "x_test = test_datagen.flow_from_directory(\"/content/drive/MyDrive/ibm project/TRAIN_SET\",target_size=(64,64),batch_size=32,class_mode=\"binary\")"
      ],
      "metadata": {
        "colab": {
          "base_uri": "https://localhost:8080/"
        },
        "id": "U9WzDTJHuiAh",
        "outputId": "a2f2bd8b-6711-427b-c920-f7318dca0315"
      },
      "execution_count": null,
      "outputs": [
        {
          "output_type": "stream",
          "name": "stdout",
          "text": [
            "Found 4118 images belonging to 5 classes.\n"
          ]
        }
      ]
    },
    {
      "cell_type": "code",
      "source": [
        "x_train.class_indices"
      ],
      "metadata": {
        "colab": {
          "base_uri": "https://localhost:8080/"
        },
        "id": "bApCdADGup8T",
        "outputId": "0a6368a2-2818-4514-9cc0-fefcbbf12cc9"
      },
      "execution_count": null,
      "outputs": [
        {
          "output_type": "execute_result",
          "data": {
            "text/plain": [
              "{'APPLES': 0, 'BANANA': 1, 'ORANGE': 2, 'PINEAPPLE': 3, 'WATERMELON': 4}"
            ]
          },
          "metadata": {},
          "execution_count": 8
        }
      ]
    },
    {
      "cell_type": "code",
      "source": [
        "#Initializing the model\n",
        "model = Sequential()"
      ],
      "metadata": {
        "id": "dx_5gTSAu0hY"
      },
      "execution_count": null,
      "outputs": []
    },
    {
      "cell_type": "code",
      "source": [
        "# addconvolution layer"
      ],
      "metadata": {
        "id": "ufSbk5LVu9qU"
      },
      "execution_count": null,
      "outputs": []
    },
    {
      "cell_type": "code",
      "source": [
        "model.add(Convolution2D(32,(3,3),input_shape=(64,64,3),activation=\"relu\"))\n",
        "# 32 indicates => no of feature detectors\n",
        "#(3,3)=> kernel size (feature detector size)"
      ],
      "metadata": {
        "id": "62dYvr9WvHlF"
      },
      "execution_count": null,
      "outputs": []
    },
    {
      "cell_type": "code",
      "source": [
        "# add Maxpooling layer"
      ],
      "metadata": {
        "id": "0RoS09jlvROB"
      },
      "execution_count": null,
      "outputs": []
    },
    {
      "cell_type": "code",
      "source": [
        "model.add(MaxPooling2D(pool_size=(2,2)))"
      ],
      "metadata": {
        "id": "7tIjlFq_vaMc"
      },
      "execution_count": null,
      "outputs": []
    },
    {
      "cell_type": "code",
      "source": [
        "# add flatten layer => input to your ANN"
      ],
      "metadata": {
        "id": "eCB4ZIxOvh4G"
      },
      "execution_count": null,
      "outputs": []
    },
    {
      "cell_type": "code",
      "source": [
        "model.add(Flatten())"
      ],
      "metadata": {
        "id": "agjb4SXivnq_"
      },
      "execution_count": null,
      "outputs": []
    },
    {
      "cell_type": "code",
      "source": [
        "model.summary()"
      ],
      "metadata": {
        "colab": {
          "base_uri": "https://localhost:8080/"
        },
        "id": "fGDMWXyMwSWs",
        "outputId": "5af9a6f8-f426-4157-ea28-5f0a25cd860a"
      },
      "execution_count": null,
      "outputs": [
        {
          "output_type": "stream",
          "name": "stdout",
          "text": [
            "Model: \"sequential\"\n",
            "_________________________________________________________________\n",
            " Layer (type)                Output Shape              Param #   \n",
            "=================================================================\n",
            " conv2d (Conv2D)             (None, 62, 62, 32)        896       \n",
            "                                                                 \n",
            " max_pooling2d (MaxPooling2D  (None, 31, 31, 32)       0         \n",
            " )                                                               \n",
            "                                                                 \n",
            " flatten (Flatten)           (None, 30752)             0         \n",
            "                                                                 \n",
            "=================================================================\n",
            "Total params: 896\n",
            "Trainable params: 896\n",
            "Non-trainable params: 0\n",
            "_________________________________________________________________\n"
          ]
        }
      ]
    },
    {
      "cell_type": "code",
      "source": [
        "# adding dense layer"
      ],
      "metadata": {
        "id": "EQirf5FewdjE"
      },
      "execution_count": null,
      "outputs": []
    },
    {
      "cell_type": "code",
      "source": [
        "#hidden layer"
      ],
      "metadata": {
        "id": "2tPWSWhNwgGB"
      },
      "execution_count": null,
      "outputs": []
    },
    {
      "cell_type": "code",
      "source": [
        "model.add(Dense(units=300,kernel_initializer=\"random_uniform\",activation=\"relu\"))"
      ],
      "metadata": {
        "id": "gE4dkAxfwlQU"
      },
      "execution_count": null,
      "outputs": []
    },
    {
      "cell_type": "code",
      "source": [
        "model.add(Dense(units=200,kernel_initializer=\"random_uniform\",activation=\"relu\"))"
      ],
      "metadata": {
        "id": "Qa_XY5iiwwnX"
      },
      "execution_count": null,
      "outputs": []
    },
    {
      "cell_type": "code",
      "source": [
        "#output layer"
      ],
      "metadata": {
        "id": "LK3wwTiKw5D0"
      },
      "execution_count": null,
      "outputs": []
    },
    {
      "cell_type": "code",
      "source": [
        "model.add(Dense(units=4,kernel_initializer=\"random_uniform\",activation=\"softmax\"))\n",
        "len(x_train)"
      ],
      "metadata": {
        "colab": {
          "base_uri": "https://localhost:8080/"
        },
        "id": "0tEhMxf-w9mU",
        "outputId": "c0e47557-918a-4c3e-baaf-c19ca6c0432f"
      },
      "execution_count": null,
      "outputs": [
        {
          "output_type": "execute_result",
          "data": {
            "text/plain": [
              "129"
            ]
          },
          "metadata": {},
          "execution_count": 22
        }
      ]
    },
    {
      "cell_type": "code",
      "source": [
        "#Ann starts so need to add dense layers"
      ],
      "metadata": {
        "id": "yV6nAWK2xC2e"
      },
      "execution_count": null,
      "outputs": []
    },
    {
      "cell_type": "code",
      "source": [
        "model.add(Dense(units=128,activation=\"relu\",kernel_initializer=\"random_uniform\"))"
      ],
      "metadata": {
        "id": "ej3QucuhxImk"
      },
      "execution_count": null,
      "outputs": []
    },
    {
      "cell_type": "code",
      "source": [
        "model.add(Dense(units=1,activation=\"sigmoid\",kernel_initializer=\"random_uniform\"))"
      ],
      "metadata": {
        "id": "f_cjd0eTxXa1"
      },
      "execution_count": null,
      "outputs": []
    },
    {
      "cell_type": "code",
      "source": [
        "#Compile the model\n",
        "model.compile(loss=\"binary_crossentropy\",optimizer=\"adam\",metrics=['accuracy'])"
      ],
      "metadata": {
        "id": "q846LaeFx3BK"
      },
      "execution_count": null,
      "outputs": []
    },
    {
      "cell_type": "code",
      "source": [
        "#Train the model"
      ],
      "metadata": {
        "id": "4fAss-XEyHCe"
      },
      "execution_count": null,
      "outputs": []
    },
    {
      "cell_type": "code",
      "source": [
        "model.fit_generator(x_train,steps_per_epoch=len(x_train), validation_data=x_test, validation_steps=len(x_test), epochs= 20)"
      ],
      "metadata": {
        "colab": {
          "base_uri": "https://localhost:8080/"
        },
        "id": "hgVQdW_cyb9l",
        "outputId": "41961af9-bd66-4b3d-a0ca-b76dba2cc701"
      },
      "execution_count": null,
      "outputs": [
        {
          "metadata": {
            "tags": null
          },
          "name": "stderr",
          "output_type": "stream",
          "text": [
            "/usr/local/lib/python3.7/dist-packages/ipykernel_launcher.py:1: UserWarning: `Model.fit_generator` is deprecated and will be removed in a future version. Please use `Model.fit`, which supports generators.\n",
            "  \"\"\"Entry point for launching an IPython kernel.\n"
          ]
        },
        {
          "output_type": "stream",
          "name": "stdout",
          "text": [
            "Epoch 1/20\n",
            "129/129 [==============================] - 1049s 8s/step - loss: -0.0586 - accuracy: 0.3288 - val_loss: -1.1965 - val_accuracy: 0.3288\n",
            "Epoch 2/20\n",
            "129/129 [==============================] - 30s 234ms/step - loss: -2.7802 - accuracy: 0.3288 - val_loss: -4.7612 - val_accuracy: 0.3288\n",
            "Epoch 3/20\n",
            "129/129 [==============================] - 30s 234ms/step - loss: -7.7093 - accuracy: 0.3288 - val_loss: -11.3626 - val_accuracy: 0.3288\n",
            "Epoch 4/20\n",
            "129/129 [==============================] - 30s 232ms/step - loss: -15.6292 - accuracy: 0.3288 - val_loss: -20.5923 - val_accuracy: 0.3288\n",
            "Epoch 5/20\n",
            "129/129 [==============================] - 30s 235ms/step - loss: -26.4540 - accuracy: 0.3288 - val_loss: -33.0187 - val_accuracy: 0.3288\n",
            "Epoch 6/20\n",
            "129/129 [==============================] - 32s 249ms/step - loss: -40.1384 - accuracy: 0.3288 - val_loss: -47.9964 - val_accuracy: 0.3288\n",
            "Epoch 7/20\n",
            "129/129 [==============================] - 30s 234ms/step - loss: -56.4593 - accuracy: 0.3288 - val_loss: -65.3947 - val_accuracy: 0.3288\n",
            "Epoch 8/20\n",
            "129/129 [==============================] - 30s 234ms/step - loss: -75.2711 - accuracy: 0.3288 - val_loss: -85.6312 - val_accuracy: 0.3288\n",
            "Epoch 9/20\n",
            "129/129 [==============================] - 31s 237ms/step - loss: -96.4326 - accuracy: 0.3288 - val_loss: -108.0127 - val_accuracy: 0.3288\n",
            "Epoch 10/20\n",
            "129/129 [==============================] - 30s 235ms/step - loss: -119.9767 - accuracy: 0.3288 - val_loss: -132.3374 - val_accuracy: 0.3288\n",
            "Epoch 11/20\n",
            "129/129 [==============================] - 31s 237ms/step - loss: -145.5833 - accuracy: 0.3288 - val_loss: -159.2962 - val_accuracy: 0.3288\n",
            "Epoch 12/20\n",
            "129/129 [==============================] - 31s 244ms/step - loss: -173.3351 - accuracy: 0.3288 - val_loss: -188.1116 - val_accuracy: 0.3288\n",
            "Epoch 13/20\n",
            "129/129 [==============================] - 30s 235ms/step - loss: -202.8137 - accuracy: 0.3288 - val_loss: -219.1743 - val_accuracy: 0.3288\n",
            "Epoch 14/20\n",
            "129/129 [==============================] - 31s 239ms/step - loss: -234.2298 - accuracy: 0.3288 - val_loss: -250.4377 - val_accuracy: 0.3288\n",
            "Epoch 15/20\n",
            "129/129 [==============================] - 30s 235ms/step - loss: -267.1027 - accuracy: 0.3288 - val_loss: -284.3910 - val_accuracy: 0.3288\n",
            "Epoch 16/20\n",
            "129/129 [==============================] - 30s 234ms/step - loss: -301.8865 - accuracy: 0.3288 - val_loss: -319.8400 - val_accuracy: 0.3288\n",
            "Epoch 17/20\n",
            "129/129 [==============================] - 31s 238ms/step - loss: -338.5290 - accuracy: 0.3288 - val_loss: -357.6195 - val_accuracy: 0.3288\n",
            "Epoch 18/20\n",
            "129/129 [==============================] - 30s 236ms/step - loss: -376.8362 - accuracy: 0.3288 - val_loss: -396.7840 - val_accuracy: 0.3288\n",
            "Epoch 19/20\n",
            "129/129 [==============================] - 30s 233ms/step - loss: -416.7296 - accuracy: 0.3288 - val_loss: -437.5276 - val_accuracy: 0.3288\n",
            "Epoch 20/20\n",
            "129/129 [==============================] - 30s 234ms/step - loss: -458.0918 - accuracy: 0.3288 - val_loss: -479.2798 - val_accuracy: 0.3288\n"
          ]
        },
        {
          "output_type": "execute_result",
          "data": {
            "text/plain": [
              "<keras.callbacks.History at 0x7fb59a2d0250>"
            ]
          },
          "metadata": {},
          "execution_count": 28
        }
      ]
    },
    {
      "cell_type": "code",
      "source": [
        "model.save(\"animal.h5\")"
      ],
      "metadata": {
        "id": "5nrwRs8k5rSf"
      },
      "execution_count": null,
      "outputs": []
    },
    {
      "cell_type": "code",
      "source": [
        "#Prediction"
      ],
      "metadata": {
        "id": "JR93P4teGyAb"
      },
      "execution_count": 30,
      "outputs": []
    },
    {
      "cell_type": "code",
      "source": [
        "from keras.models import load_model\n",
        "import numpy as np\n",
        "import cv2\n",
        "model =load_model(\"animal.h5\")"
      ],
      "metadata": {
        "id": "qCIJVUjdGzw9"
      },
      "execution_count": 31,
      "outputs": []
    },
    {
      "cell_type": "code",
      "source": [
        "model.compile(optimizer='adam',loss='binary_crossentropy',metrics=['accuracy'])"
      ],
      "metadata": {
        "id": "G_E_unwaG469"
      },
      "execution_count": 32,
      "outputs": []
    },
    {
      "cell_type": "code",
      "source": [
        "from skimage.transform import resize\n",
        "def detect(frame):\n",
        "    try:\n",
        "        img = resize(frame,(64,64))\n",
        "        img = np.expand_dims(img,axis=0)\n",
        "        if(np.max(img)>1):\n",
        "            img = img/255.0\n",
        "        prediction = model.predict(img)\n",
        "        print(prediction)\n",
        "        prediction_class = model.predict_classes(img)\n",
        "        print(prediction_class)\n",
        "    except:\n",
        "        print(\"shape not found\")"
      ],
      "metadata": {
        "id": "zTDe1ofDG_VX"
      },
      "execution_count": 33,
      "outputs": []
    },
    {
      "cell_type": "code",
      "source": [
        "frame = cv2.imread(\"cat.jpg\")\n",
        "data = detect(frame)"
      ],
      "metadata": {
        "colab": {
          "base_uri": "https://localhost:8080/"
        },
        "id": "zAzM_zgWHGxw",
        "outputId": "c7eb28b9-dcac-480e-80a6-1f7bdcfd03c8"
      },
      "execution_count": 34,
      "outputs": [
        {
          "output_type": "stream",
          "name": "stdout",
          "text": [
            "shape not found\n"
          ]
        }
      ]
    },
    {
      "cell_type": "code",
      "source": [
        "frame = cv2.imread(\"rat.jpg\")\n",
        "data = detect(frame)"
      ],
      "metadata": {
        "colab": {
          "base_uri": "https://localhost:8080/"
        },
        "id": "P_rDOWIwHMi0",
        "outputId": "5cbc388a-e635-4317-914e-c34b2f313000"
      },
      "execution_count": 35,
      "outputs": [
        {
          "output_type": "stream",
          "name": "stdout",
          "text": [
            "shape not found\n"
          ]
        }
      ]
    },
    {
      "cell_type": "code",
      "source": [
        "from tensorflow.keras.models import load_model"
      ],
      "metadata": {
        "id": "FOgIRi5jHSgO"
      },
      "execution_count": 36,
      "outputs": []
    },
    {
      "cell_type": "code",
      "source": [
        "from tensorflow.keras.preprocessing import image"
      ],
      "metadata": {
        "id": "dVztJS7KHXqw"
      },
      "execution_count": 37,
      "outputs": []
    },
    {
      "cell_type": "code",
      "source": [
        "model = load_model(\"animal.h5\")"
      ],
      "metadata": {
        "id": "19v1Tb4aHdl-"
      },
      "execution_count": 38,
      "outputs": []
    },
    {
      "cell_type": "code",
      "source": [
        "img = image.load_img(\"/content/drive/MyDrive/ibm project/rat.jpg\",target_size=(64,64))"
      ],
      "metadata": {
        "id": "Q5kptDk_HhvJ"
      },
      "execution_count": 40,
      "outputs": []
    },
    {
      "cell_type": "code",
      "source": [
        "img"
      ],
      "metadata": {
        "colab": {
          "base_uri": "https://localhost:8080/",
          "height": 81
        },
        "id": "d2ztLZUnINMw",
        "outputId": "b99dd68c-eaab-4d21-d6d9-89f84a5a0835"
      },
      "execution_count": 41,
      "outputs": [
        {
          "output_type": "execute_result",
          "data": {
            "text/plain": [
              "<PIL.Image.Image image mode=RGB size=64x64 at 0x7FB599102690>"
            ],
            "image/png": "[encoded data removed]"
          },
          "metadata": {},
          "execution_count": 41
        }
      ]
    }
  ]
}